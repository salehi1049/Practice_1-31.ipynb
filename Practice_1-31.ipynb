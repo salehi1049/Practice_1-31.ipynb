{
 "cells": [
  {
   "cell_type": "code",
   "execution_count": 17,
   "id": "c49acc01-e4ff-481e-916d-da24051ee3cd",
   "metadata": {},
   "outputs": [],
   "source": [
    "import numpy as np\n",
    "import pandas as pd"
   ]
  },
  {
   "cell_type": "code",
   "execution_count": 18,
   "id": "65c33aaa-f0d3-4b85-9bbd-ebb159825842",
   "metadata": {},
   "outputs": [
    {
     "data": {
      "text/plain": [
       "array([[1, 0, 2],\n",
       "       [0, 4, 2],\n",
       "       [2, 0, 2],\n",
       "       [3, 3, 4],\n",
       "       [1, 3, 2],\n",
       "       [3, 2, 0]])"
      ]
     },
     "execution_count": 18,
     "metadata": {},
     "output_type": "execute_result"
    }
   ],
   "source": [
    "sale_amount = np.random.randint(5, size=(6, 3))\n",
    "sale_amount"
   ]
  },
  {
   "cell_type": "code",
   "execution_count": 19,
   "id": "8f92b976-0d48-4ead-a469-69fd60dbc400",
   "metadata": {},
   "outputs": [
    {
     "data": {
      "text/html": [
       "<div>\n",
       "<style scoped>\n",
       "    .dataframe tbody tr th:only-of-type {\n",
       "        vertical-align: middle;\n",
       "    }\n",
       "\n",
       "    .dataframe tbody tr th {\n",
       "        vertical-align: top;\n",
       "    }\n",
       "\n",
       "    .dataframe thead th {\n",
       "        text-align: right;\n",
       "    }\n",
       "</style>\n",
       "<table border=\"1\" class=\"dataframe\">\n",
       "  <thead>\n",
       "    <tr style=\"text-align: right;\">\n",
       "      <th></th>\n",
       "      <th>کره  گیاهی</th>\n",
       "      <th>کره بادام زمینی</th>\n",
       "      <th>کره حیوانی</th>\n",
       "    </tr>\n",
       "  </thead>\n",
       "  <tbody>\n",
       "    <tr>\n",
       "      <th>شنبه</th>\n",
       "      <td>1</td>\n",
       "      <td>0</td>\n",
       "      <td>2</td>\n",
       "    </tr>\n",
       "    <tr>\n",
       "      <th>یکشنبه</th>\n",
       "      <td>0</td>\n",
       "      <td>4</td>\n",
       "      <td>2</td>\n",
       "    </tr>\n",
       "    <tr>\n",
       "      <th>دوشنبه</th>\n",
       "      <td>2</td>\n",
       "      <td>0</td>\n",
       "      <td>2</td>\n",
       "    </tr>\n",
       "    <tr>\n",
       "      <th>سه شنبه</th>\n",
       "      <td>3</td>\n",
       "      <td>3</td>\n",
       "      <td>4</td>\n",
       "    </tr>\n",
       "    <tr>\n",
       "      <th>چهارشنبه</th>\n",
       "      <td>1</td>\n",
       "      <td>3</td>\n",
       "      <td>2</td>\n",
       "    </tr>\n",
       "    <tr>\n",
       "      <th>پنج شنبه</th>\n",
       "      <td>3</td>\n",
       "      <td>2</td>\n",
       "      <td>0</td>\n",
       "    </tr>\n",
       "  </tbody>\n",
       "</table>\n",
       "</div>"
      ],
      "text/plain": [
       "          کره  گیاهی   کره بادام زمینی   کره حیوانی\n",
       "شنبه                1                 0           2\n",
       "یکشنبه              0                 4           2\n",
       "دوشنبه              2                 0           2\n",
       "سه شنبه             3                 3           4\n",
       "چهارشنبه            1                 3           2\n",
       "پنج شنبه            3                 2           0"
      ]
     },
     "execution_count": 19,
     "metadata": {},
     "output_type": "execute_result"
    }
   ],
   "source": [
    "weekly_sale = pd.DataFrame(sale_amount,index=[\"شنبه\", \"یکشنبه\", \"دوشنبه\", \"سه شنبه\", \"چهارشنبه\",\"پنج شنبه\"],columns=[\"کره  گیاهی \", \"کره بادام زمینی \", \"کره حیوانی\"])\n",
    "weekly_sale"
   ]
  },
  {
   "cell_type": "code",
   "execution_count": 20,
   "id": "63730018-e80b-42dc-a69a-8c73ba37f985",
   "metadata": {},
   "outputs": [
    {
     "data": {
      "text/plain": [
       "array([10, 14, 12])"
      ]
     },
     "execution_count": 20,
     "metadata": {},
     "output_type": "execute_result"
    }
   ],
   "source": [
    "price = np.array([10, 14, 12])\n",
    "price"
   ]
  },
  {
   "cell_type": "code",
   "execution_count": 21,
   "id": "9211408d-3dff-4659-b52d-3e5ca1373694",
   "metadata": {},
   "outputs": [
    {
     "data": {
      "text/html": [
       "<div>\n",
       "<style scoped>\n",
       "    .dataframe tbody tr th:only-of-type {\n",
       "        vertical-align: middle;\n",
       "    }\n",
       "\n",
       "    .dataframe tbody tr th {\n",
       "        vertical-align: top;\n",
       "    }\n",
       "\n",
       "    .dataframe thead th {\n",
       "        text-align: right;\n",
       "    }\n",
       "</style>\n",
       "<table border=\"1\" class=\"dataframe\">\n",
       "  <thead>\n",
       "    <tr style=\"text-align: right;\">\n",
       "      <th></th>\n",
       "      <th>کره  گیاهی</th>\n",
       "      <th>کره بادام زمینی</th>\n",
       "      <th>کره حیوانی</th>\n",
       "    </tr>\n",
       "  </thead>\n",
       "  <tbody>\n",
       "    <tr>\n",
       "      <th>قیمت</th>\n",
       "      <td>10</td>\n",
       "      <td>14</td>\n",
       "      <td>12</td>\n",
       "    </tr>\n",
       "  </tbody>\n",
       "</table>\n",
       "</div>"
      ],
      "text/plain": [
       "      کره  گیاهی   کره بادام زمینی   کره حیوانی\n",
       "قیمت           10                14          12"
      ]
     },
     "execution_count": 21,
     "metadata": {},
     "output_type": "execute_result"
    }
   ],
   "source": [
    "butter_price = pd.DataFrame(price.reshape(1, 3),index=[\"قیمت\"],columns=[\"کره  گیاهی \", \"کره بادام زمینی \", \"کره حیوانی\"])\n",
    "butter_price"
   ]
  },
  {
   "cell_type": "code",
   "execution_count": 22,
   "id": "038a6034-6feb-41ce-bbb2-fa2370c77267",
   "metadata": {},
   "outputs": [
    {
     "data": {
      "text/plain": [
       "(1, 3)"
      ]
     },
     "execution_count": 22,
     "metadata": {},
     "output_type": "execute_result"
    }
   ],
   "source": [
    "butter_price.shape"
   ]
  },
  {
   "cell_type": "code",
   "execution_count": 23,
   "id": "5a10a78b-470c-4e11-b4cd-c4cc875f6a96",
   "metadata": {},
   "outputs": [
    {
     "data": {
      "text/plain": [
       "(6, 3)"
      ]
     },
     "execution_count": 23,
     "metadata": {},
     "output_type": "execute_result"
    }
   ],
   "source": [
    "weekly_sale.shape"
   ]
  },
  {
   "cell_type": "code",
   "execution_count": 24,
   "id": "98dc8257-033d-47ee-b58f-2f30237dc2ec",
   "metadata": {},
   "outputs": [
    {
     "data": {
      "text/plain": [
       "(1, 6)"
      ]
     },
     "execution_count": 24,
     "metadata": {},
     "output_type": "execute_result"
    }
   ],
   "source": [
    "daily_sale = butter_price.dot(weekly_sale.T)\n",
    "daily_sale.shape"
   ]
  },
  {
   "cell_type": "code",
   "execution_count": 25,
   "id": "abe6e2e1-68bf-4f98-8583-33c95b3e920d",
   "metadata": {},
   "outputs": [
    {
     "data": {
      "text/html": [
       "<div>\n",
       "<style scoped>\n",
       "    .dataframe tbody tr th:only-of-type {\n",
       "        vertical-align: middle;\n",
       "    }\n",
       "\n",
       "    .dataframe tbody tr th {\n",
       "        vertical-align: top;\n",
       "    }\n",
       "\n",
       "    .dataframe thead th {\n",
       "        text-align: right;\n",
       "    }\n",
       "</style>\n",
       "<table border=\"1\" class=\"dataframe\">\n",
       "  <thead>\n",
       "    <tr style=\"text-align: right;\">\n",
       "      <th></th>\n",
       "      <th>کره  گیاهی</th>\n",
       "      <th>کره بادام زمینی</th>\n",
       "      <th>کره حیوانی</th>\n",
       "      <th>سرجمع هزینه</th>\n",
       "    </tr>\n",
       "  </thead>\n",
       "  <tbody>\n",
       "    <tr>\n",
       "      <th>شنبه</th>\n",
       "      <td>1</td>\n",
       "      <td>0</td>\n",
       "      <td>2</td>\n",
       "      <td>34</td>\n",
       "    </tr>\n",
       "    <tr>\n",
       "      <th>یکشنبه</th>\n",
       "      <td>0</td>\n",
       "      <td>4</td>\n",
       "      <td>2</td>\n",
       "      <td>80</td>\n",
       "    </tr>\n",
       "    <tr>\n",
       "      <th>دوشنبه</th>\n",
       "      <td>2</td>\n",
       "      <td>0</td>\n",
       "      <td>2</td>\n",
       "      <td>44</td>\n",
       "    </tr>\n",
       "    <tr>\n",
       "      <th>سه شنبه</th>\n",
       "      <td>3</td>\n",
       "      <td>3</td>\n",
       "      <td>4</td>\n",
       "      <td>120</td>\n",
       "    </tr>\n",
       "    <tr>\n",
       "      <th>چهارشنبه</th>\n",
       "      <td>1</td>\n",
       "      <td>3</td>\n",
       "      <td>2</td>\n",
       "      <td>76</td>\n",
       "    </tr>\n",
       "    <tr>\n",
       "      <th>پنج شنبه</th>\n",
       "      <td>3</td>\n",
       "      <td>2</td>\n",
       "      <td>0</td>\n",
       "      <td>58</td>\n",
       "    </tr>\n",
       "  </tbody>\n",
       "</table>\n",
       "</div>"
      ],
      "text/plain": [
       "          کره  گیاهی   کره بادام زمینی   کره حیوانی  سرجمع هزینه\n",
       "شنبه                1                 0           2           34\n",
       "یکشنبه              0                 4           2           80\n",
       "دوشنبه              2                 0           2           44\n",
       "سه شنبه             3                 3           4          120\n",
       "چهارشنبه            1                 3           2           76\n",
       "پنج شنبه            3                 2           0           58"
      ]
     },
     "execution_count": 25,
     "metadata": {},
     "output_type": "execute_result"
    }
   ],
   "source": [
    "weekly_sale[\"سرجمع هزینه\"] = daily_sale.T\n",
    "weekly_sale"
   ]
  }
 ],
 "metadata": {
  "kernelspec": {
   "display_name": "Python 3 (ipykernel)",
   "language": "python",
   "name": "python3"
  },
  "language_info": {
   "codemirror_mode": {
    "name": "ipython",
    "version": 3
   },
   "file_extension": ".py",
   "mimetype": "text/x-python",
   "name": "python",
   "nbconvert_exporter": "python",
   "pygments_lexer": "ipython3",
   "version": "3.11.7"
  }
 },
 "nbformat": 4,
 "nbformat_minor": 5
}
